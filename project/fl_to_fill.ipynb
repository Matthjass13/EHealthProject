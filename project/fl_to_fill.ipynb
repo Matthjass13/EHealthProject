{
 "cells": [
  {
   "metadata": {},
   "cell_type": "markdown",
   "source": [
    "# Federated Learning Pipeline\n",
    "\n",
    "This annotated notebook explains the pipeline **step by step**, with:\n",
    "- short introductions before each code cell;\n",
    "- comments at the top of every cell describing *what it does* and *how to check the result*;\n",
    "- a **checklist**, **troubleshooting tips**, a **glossary**, and suggested exercises.\n",
    "\n",
    "> **Learning Objectives**\n",
    "> - Understand the end‑to‑end flow of a Federated Learning (FL) pipeline: preprocessing → training → evaluation → saving artifacts.\n",
    "> - Learn to read and adapt components (dataset, model, training loop, metrics).\n",
    "> - Run experiments (saving results).\n",
    "\n",
    "> **Prerequisites**\n",
    "> - Intermediate Python; experience with PyTorch and scikit‑learn.\n",
    "> - Basic ML concepts: train/val/test split, overfitting, metrics.\n",
    "> - Introductory knowledge of FL (clients, server/aggregator, training rounds).\n",
    "\n",
    "> **Mini Glossary (FL)**\n",
    "> - **Client**: A device/site (e.g., hospital, phone) that trains locally on private data.\n",
    "> - **Server**:The coordinator distributes the starting model, communicates with clients, collects client updates, and distributes new models.\n",
    "> - **Aggregator/Aggregation Method**:  Method chosen to aggregate all client models and create the new global model.\n",
    "> - **Round**: One cycle of local training → sending updates → aggregation.\n",
    "> - **Aggregation frequency**: Number of epochs between sending weights to the server.\n",
    "> - **Federated Averaging (FedAvg)**: Standard method to average/aggregate client model weights.\n",
    "> - **IID Data**: Customer data follows the same distribution across all clients (homogeneity).\n",
    "> - **Non‑IID Data**: Client data may follow different distributions (heterogeneity).\n",
    "> - **Global model**: Model sent by the server to all clients\n",
    "> - **Local model**: Model trained by the client on its data"
   ]
  },
  {
   "metadata": {},
   "cell_type": "markdown",
   "source": [
    "### What does the next cell do?\n",
    "**Environment setup and library imports.**"
   ]
  },
  {
   "metadata": {},
   "cell_type": "code",
   "source": [
    "import torch\n",
    "import torch.nn as nn\n",
    "from sklearn.preprocessing import StandardScaler\n",
    "from sklearn.model_selection import train_test_split\n",
    "import pandas as pd\n",
    "from torch.utils.data import DataLoader, TensorDataset\n",
    "import torch.nn.functional as F\n",
    "from sklearn.metrics import confusion_matrix, f1_score, precision_score, recall_score\n",
    "from copy import deepcopy"
   ],
   "outputs": [],
   "execution_count": null
  },
  {
   "metadata": {},
   "cell_type": "markdown",
   "source": "#### Definition of the model, train function, and evaluation."
  },
  {
   "metadata": {},
   "cell_type": "code",
   "source": [
    "# Model definition\n",
    "class MLP(nn.Module):\n",
    "    def __init__(self, input_dim, output_dim, hidden_dim=64):\n",
    "        super(MLP, self).__init__()\n",
    "        self.fc1 = nn.Linear(input_dim, hidden_dim)\n",
    "        self.fc2 = nn.Linear(hidden_dim, hidden_dim)\n",
    "        self.fc3 = nn.Linear(hidden_dim, output_dim)\n",
    "\n",
    "    def forward(self, x):\n",
    "        x = F.relu(self.fc1(x))\n",
    "        x = F.relu(self.fc2(x))\n",
    "        x = self.fc3(x)\n",
    "        return x\n",
    "\n",
    "# Training and evaluation loops\n",
    "def train(model, loader, optimizer, criterion):\n",
    "    model.train()\n",
    "    total_loss = 0\n",
    "    correct = 0\n",
    "    for features, labels in loader:\n",
    "        features, labels = features.to(DEVICE), labels.to(DEVICE)\n",
    "        optimizer.zero_grad()\n",
    "        outputs = model(features)\n",
    "        loss = criterion(outputs, labels)\n",
    "        loss.backward()\n",
    "        optimizer.step()\n",
    "        total_loss += loss.item()\n",
    "        correct += (outputs.argmax(1) == labels).sum().item()\n",
    "    return total_loss / len(loader), correct / len(loader.dataset)\n",
    "\n",
    "def evaluate(model, loader, criterion):\n",
    "    model.eval()\n",
    "    total_loss = 0\n",
    "    correct = 0\n",
    "    with torch.no_grad():\n",
    "        for features, labels in loader:\n",
    "            features, labels = features.to(DEVICE), labels.to(DEVICE)\n",
    "            outputs = model(features)\n",
    "            loss = criterion(outputs, labels)\n",
    "            total_loss += loss.item()\n",
    "            correct += (outputs.argmax(1) == labels).sum().item()\n",
    "    return total_loss / len(loader), correct / len(loader.dataset)"
   ],
   "outputs": [],
   "execution_count": null
  },
  {
   "metadata": {},
   "cell_type": "markdown",
   "source": "#### Data loading and preprocessing"
  },
  {
   "cell_type": "code",
   "metadata": {},
   "source": [
    "def load_dataset(train_file, test_file):\n",
    "    # Load data\n",
    "    train_data = pd.read_csv(train_file)\n",
    "    test_data = pd.read_csv(test_file)\n",
    "    class_names = train_data[\"Class\"].unique()\n",
    "    print(f\"Classes: {class_names}\")\n",
    "    # Feature and label columns\n",
    "    feature_names = train_data.columns[:-1]\n",
    "    print(f\"Features: {feature_names}\")\n",
    "    X_train = train_data[feature_names].values\n",
    "    y_train = train_data[\"Class\"].values\n",
    "    X_test = test_data[feature_names].values\n",
    "    y_test = test_data[\"Class\"].values\n",
    "\n",
    "    # Convert labels to integers\n",
    "    class_map = {label: idx for idx, label in enumerate(class_names)}\n",
    "    y_train = [class_map[label] for label in y_train]\n",
    "    y_test = [class_map[label] for label in y_test]\n",
    "\n",
    "    # Split training data into training and validation\n",
    "    X_train, X_val, y_train, y_val = train_test_split(\n",
    "        X_train, y_train, test_size=0.2, random_state=42, stratify=y_train\n",
    "    )\n",
    "    print(f\"Training samples: {len(X_train)}, Validation samples: {len(X_val)}, Test samples: {len(X_test)}\")\n",
    "\n",
    "    input_dim = X_train.shape[1]\n",
    "    output_dim = len(class_names)\n",
    "\n",
    "    return X_train, y_train, X_val, y_val, X_test, y_test, input_dim, output_dim\n",
    "\n",
    "def features_scaling(X_train, X_val, X_test):\n",
    "    # Scale the features\n",
    "    scaler = StandardScaler()\n",
    "    X_train_scaled = scaler.fit_transform(X_train)\n",
    "    X_val_scaled = scaler.transform(X_val)\n",
    "    X_test_scaled = scaler.transform(X_test)\n",
    "    print(\"Features scaled successfully.\")\n",
    "    return X_train_scaled, X_val_scaled, X_test_scaled\n",
    "\n",
    "\n",
    "def convert_to_tensors(X_train, y_train, X_val, y_val, X_test, y_test):\n",
    "    # Convert to PyTorch tensors\n",
    "    X_train_tensor = torch.tensor(X_train, dtype=torch.float32)\n",
    "    y_train_tensor = torch.tensor(y_train, dtype=torch.long)\n",
    "    X_val_tensor = torch.tensor(X_val, dtype=torch.float32)\n",
    "    y_val_tensor = torch.tensor(y_val, dtype=torch.long)\n",
    "    X_test_tensor = torch.tensor(X_test, dtype=torch.float32)\n",
    "    y_test_tensor = torch.tensor(y_test, dtype=torch.long)\n",
    "\n",
    "    return X_train_tensor, y_train_tensor, X_val_tensor, y_val_tensor, X_test_tensor, y_test_tensor\n",
    "\n",
    "def create_dataloader(X_tensor, y_tensor, batch_size):\n",
    "    # Create DataLoader objects\n",
    "    data = TensorDataset(X_tensor, y_tensor)\n",
    "    loader = DataLoader(data, batch_size=batch_size, shuffle=True)\n",
    "    return loader\n",
    "\n"
   ],
   "outputs": [],
   "execution_count": null
  },
  {
   "metadata": {},
   "cell_type": "markdown",
   "source": "#### Hyperparameters\n"
  },
  {
   "metadata": {},
   "cell_type": "code",
   "source": [
    "HIDDEN_DIM = 64\n",
    "BATCH_SIZE = 32\n",
    "EPOCHS = 100\n",
    "LEARNING_RATE = 1e-3\n",
    "DEVICE = 'cuda' if torch.cuda.is_available() else 'cpu'\n",
    "PATIENCE = 5  # Early stopping patience"
   ],
   "outputs": [],
   "execution_count": null
  },
  {
   "metadata": {},
   "cell_type": "markdown",
   "source": [
    "### Pipeline execution\n",
    "\n",
    "Data loading and data loader creation."
   ]
  },
  {
   "metadata": {},
   "cell_type": "code",
   "source": [
    "# Load and preprocess server data\n",
    "X_train_server, y_train_server, X_val_server, y_val_server, X_test_server, y_test_server, INPUT_DIM, OUTPUT_DIM = load_dataset(\n",
    "    \"health_data_backup/train_health_data_server.csv\", \"health_data_backup/test_health_data_server.csv\")\n",
    "\n",
    "X_train_server, X_val_server, X_test_server = features_scaling(X_train_server, X_val_server, X_test_server)\n",
    "\n",
    "X_train_tensor_server, y_train_tensor_server, X_val_tensor_server, y_val_tensor_server, X_test_tensor_server, y_test_tensor_server = convert_to_tensors(X_train_server, y_train_server, X_val_server, y_val_server, X_test_server, y_test_server)\n",
    "\n",
    "train_loader_server = create_dataloader(X_train_tensor_server, y_train_tensor_server, BATCH_SIZE)\n",
    "val_loader_server = create_dataloader(X_val_tensor_server, y_val_tensor_server, BATCH_SIZE)\n",
    "test_loader_server = create_dataloader(X_test_tensor_server, y_test_tensor_server, BATCH_SIZE)\n",
    "\n",
    "print(f\"Device: {DEVICE}, Input dim: {INPUT_DIM}, Output dim: {OUTPUT_DIM}\")"
   ],
   "outputs": [],
   "execution_count": null
  },
  {
   "metadata": {},
   "cell_type": "markdown",
   "source": "#### Server training"
  },
  {
   "metadata": {},
   "cell_type": "code",
   "source": [
    "# Train server\n",
    "\n",
    "# Model, optimizer, and loss\n",
    "server_model = MLP(INPUT_DIM, OUTPUT_DIM, HIDDEN_DIM).to(DEVICE)\n",
    "optimizer = torch.optim.Adam(server_model.parameters(), lr=LEARNING_RATE)\n",
    "criterion = nn.CrossEntropyLoss()\n",
    "\n",
    "# Early stopping setup\n",
    "best_val_loss = float('inf')\n",
    "patience_counter = 0\n",
    "\n",
    "\n",
    "# Training loop with early stopping\n",
    "print(\"Starting training...\")\n",
    "for epoch in range(EPOCHS):\n",
    "    train_loss, train_acc = train(server_model, train_loader_server, optimizer, criterion)\n",
    "    val_loss, val_acc = evaluate(server_model, val_loader_server, criterion)\n",
    "    print(f\"Epoch {epoch+1}/{EPOCHS} | Train Loss: {train_loss:.4f} | Train Acc: {train_acc:.4f} | Val Loss: {val_loss:.4f} | Val Acc: {val_acc:.4f}\")\n",
    "\n",
    "    # Early stopping check\n",
    "    if val_loss < best_val_loss:\n",
    "        best_val_loss = val_loss\n",
    "        patience_counter = 0\n",
    "        print(\"New best validation loss. Resetting patience counter.\")\n",
    "    else:\n",
    "        patience_counter += 1\n",
    "        print(f\"No improvement. Patience counter: {patience_counter}/{PATIENCE}\")\n",
    "        if patience_counter >= PATIENCE:\n",
    "            print(\"Early stopping triggered.\")\n",
    "            break\n",
    "\n",
    "# Test the model\n",
    "test_loss, test_acc = evaluate(server_model, test_loader_server, criterion)\n",
    "print(f\"Test Loss: {test_loss:.4f}, Test Accuracy: {test_acc:.4f}\")\n",
    "\n",
    "# Collect predictions for metrics\n",
    "server_model.eval()\n",
    "y_true = []\n",
    "y_pred = []\n",
    "with torch.no_grad():\n",
    "    for features, labels in test_loader_server:\n",
    "        features, labels = features.to(DEVICE), labels.to(DEVICE)\n",
    "        outputs = server_model(features)\n",
    "        _, preds = torch.max(outputs, 1)\n",
    "        y_true.extend(labels.cpu().numpy())\n",
    "        y_pred.extend(preds.cpu().numpy())\n",
    "\n",
    "# Confusion matrix and other metrics\n",
    "conf_matrix = confusion_matrix(y_true, y_pred)\n",
    "print(\"Confusion Matrix:\")\n",
    "print(conf_matrix)\n",
    "\n",
    "f1 = f1_score(y_true, y_pred, average='weighted')\n",
    "precision = precision_score(y_true, y_pred, average='weighted')\n",
    "recall = recall_score(y_true, y_pred, average='weighted')\n",
    "\n",
    "print(f\"F1 Score: {f1:.4f}\")\n",
    "print(f\"Precision: {precision:.4f}\")\n",
    "print(f\"Recall: {recall:.4f}\")"
   ],
   "outputs": [],
   "execution_count": null
  },
  {
   "metadata": {
    "ExecuteTime": {
     "end_time": "2025-10-08T08:41:04.736229Z",
     "start_time": "2025-10-08T08:41:04.734408Z"
    }
   },
   "cell_type": "markdown",
   "source": [
    "#### Definition of Federated Learning parameters.\n",
    "\n",
    "The main parameters of FL are defined: **aggregation frequency, aggregation round, number of clients, and data structures** suitable for containing **client data and models**.\n",
    "\n",
    "These parameters are examples; modify and select them based on your data.\n",
    "\n",
    "If you don't remember some of the terms, check the **glossary** at the beginning of the file.\n"
   ]
  },
  {
   "metadata": {},
   "cell_type": "code",
   "source": [
    "# FL parameters\n",
    "aggregation_freq = 5\n",
    "aggregation_round = round(EPOCHS / aggregation_freq)\n",
    "\n",
    "print(f\"Aggregation_round: {aggregation_round}\")\n",
    "clients_number = 5\n",
    "\n",
    "# FL clients data\n",
    "train_loader_clients = []\n",
    "val_loader_clients = []\n",
    "test_loader_clients = []\n",
    "\n",
    "models = []"
   ],
   "outputs": [],
   "execution_count": null
  },
  {
   "metadata": {},
   "cell_type": "markdown",
   "source": [
    "**fed_avg** is FL's **standard** aggregation method. It receives the weights of all models and **averages** each weight. The new model is composed of the **average of all model weights**.\n",
    "\n",
    "**fed_avg_weighted** is a **variant of fed_avg** that implements **weighted averaging**, taking into account the amount of data from each client.\n",
    "\n",
    "With the **fed_avg_w** variable, we choose whether to use the weighted version of FedAVG or not."
   ]
  },
  {
   "metadata": {},
   "cell_type": "code",
   "source": [
    "def fed_avg(models_weights):\n",
    "    # Average the weights\n",
    "    new_state_dict = {}\n",
    "    for key in models_weights[0].keys():\n",
    "        new_state_dict[key] = sum([m[key] for m in models_weights]) / len(models_weights)\n",
    "    return new_state_dict\n",
    "\n",
    "##def fed_avg_weighted(<parameters>):\n"
   ],
   "outputs": [],
   "execution_count": null
  },
  {
   "metadata": {},
   "cell_type": "markdown",
   "source": [
    "#### Data loading and preprocessing (Clients)\n",
    "\n",
    "Creation of the global model from the server model: deepcopy(…)\n",
    "\n",
    "Loading of each client's data and preprocessing.\n",
    "\n",
    "Creation of models for each client"
   ]
  },
  {
   "metadata": {},
   "cell_type": "code",
   "source": [
    "global_model = deepcopy(server_model)\n",
    "\n",
    "# Load and preprocess clients data\n",
    "\n",
    "# Create models for each client with server weights"
   ],
   "outputs": [],
   "execution_count": null
  },
  {
   "metadata": {},
   "cell_type": "markdown",
   "source": [
    "#### Now we need to define the core of the FL, the aggregation and training cycles.\n",
    "\n",
    "**Tip**: use two nested cycles.\n",
    "\n",
    "You can draw **inspiration** from server training to train each client.\n",
    "\n",
    "For each round, you need to **aggregate the models** with the chosen function (pass the correct parameters based on the function).\n",
    "\n",
    "Also remember to **evaluate** the global model obtained and print the metrics.\n",
    "\n",
    "Then start a new round, and each client works with the new models."
   ]
  },
  {
   "metadata": {},
   "cell_type": "code",
   "source": "# Tip: Setup a structure to store all values\n",
   "outputs": [],
   "execution_count": null
  },
  {
   "metadata": {},
   "cell_type": "markdown",
   "source": [
    "# Model validation\n",
    "\n",
    "Okay, at this point we are almost done.\n",
    "\n",
    "We need to test the model and print the metrics."
   ]
  },
  {
   "metadata": {},
   "cell_type": "code",
   "source": "# Test the aggregated model\n",
   "outputs": [],
   "execution_count": null
  },
  {
   "metadata": {},
   "cell_type": "markdown",
   "source": [
    "# Graphs\n",
    "\n",
    "Now all that's left is to print a few graphs to better illustrate the results."
   ]
  },
  {
   "metadata": {},
   "cell_type": "code",
   "source": "",
   "outputs": [],
   "execution_count": null
  }
 ],
 "metadata": {
  "kernelspec": {
   "display_name": "venv",
   "language": "python",
   "name": "python3"
  },
  "language_info": {
   "codemirror_mode": {
    "name": "ipython",
    "version": 3
   },
   "file_extension": ".py",
   "mimetype": "text/x-python",
   "name": "python",
   "nbconvert_exporter": "python",
   "pygments_lexer": "ipython3",
   "version": "3.8.10"
  }
 },
 "nbformat": 4,
 "nbformat_minor": 2
}
